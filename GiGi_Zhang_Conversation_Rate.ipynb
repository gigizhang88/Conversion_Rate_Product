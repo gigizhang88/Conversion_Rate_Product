{
 "cells": [
  {
   "cell_type": "markdown",
   "metadata": {},
   "source": [
    "# Optimizing conversion rate"
   ]
  },
  {
   "cell_type": "markdown",
   "metadata": {},
   "source": [
    "The data conatins the information of whether they converted or not as well as some of their characteristics such as their country, the marketing channel, their age, whether they are repeat users and the number of pages visited during that session (as a proxy for site activity/time spent on site).\n",
    "Two questions to answewr in this project:\n",
    "1. Predict conversion rate\n",
    "2. Come up with recommendations for the product team and the marketing team to improve conversion rate"
   ]
  },
  {
   "cell_type": "code",
   "execution_count": 1,
   "metadata": {
    "collapsed": false
   },
   "outputs": [],
   "source": [
    "import numpy as np\n",
    "import pandas as pd\n",
    "import seaborn as sns\n",
    "import matplotlib.pyplot as plt\n",
    "from sklearn.linear_model import LogisticRegression\n",
    "from sklearn.ensemble import RandomForestClassifier\n",
    "from sklearn.model_selection import train_test_split\n",
    "%matplotlib inline"
   ]
  },
  {
   "cell_type": "code",
   "execution_count": 2,
   "metadata": {
    "collapsed": false
   },
   "outputs": [
    {
     "data": {
      "text/html": [
       "<div>\n",
       "<table border=\"1\" class=\"dataframe\">\n",
       "  <thead>\n",
       "    <tr style=\"text-align: right;\">\n",
       "      <th></th>\n",
       "      <th>country</th>\n",
       "      <th>age</th>\n",
       "      <th>new_user</th>\n",
       "      <th>source</th>\n",
       "      <th>total_pages_visited</th>\n",
       "      <th>converted</th>\n",
       "    </tr>\n",
       "  </thead>\n",
       "  <tbody>\n",
       "    <tr>\n",
       "      <th>0</th>\n",
       "      <td>UK</td>\n",
       "      <td>25</td>\n",
       "      <td>1</td>\n",
       "      <td>Ads</td>\n",
       "      <td>1</td>\n",
       "      <td>0</td>\n",
       "    </tr>\n",
       "    <tr>\n",
       "      <th>1</th>\n",
       "      <td>US</td>\n",
       "      <td>23</td>\n",
       "      <td>1</td>\n",
       "      <td>Seo</td>\n",
       "      <td>5</td>\n",
       "      <td>0</td>\n",
       "    </tr>\n",
       "    <tr>\n",
       "      <th>2</th>\n",
       "      <td>US</td>\n",
       "      <td>28</td>\n",
       "      <td>1</td>\n",
       "      <td>Seo</td>\n",
       "      <td>4</td>\n",
       "      <td>0</td>\n",
       "    </tr>\n",
       "    <tr>\n",
       "      <th>3</th>\n",
       "      <td>China</td>\n",
       "      <td>39</td>\n",
       "      <td>1</td>\n",
       "      <td>Seo</td>\n",
       "      <td>5</td>\n",
       "      <td>0</td>\n",
       "    </tr>\n",
       "    <tr>\n",
       "      <th>4</th>\n",
       "      <td>US</td>\n",
       "      <td>30</td>\n",
       "      <td>1</td>\n",
       "      <td>Seo</td>\n",
       "      <td>6</td>\n",
       "      <td>0</td>\n",
       "    </tr>\n",
       "  </tbody>\n",
       "</table>\n",
       "</div>"
      ],
      "text/plain": [
       "  country  age  new_user source  total_pages_visited  converted\n",
       "0      UK   25         1    Ads                    1          0\n",
       "1      US   23         1    Seo                    5          0\n",
       "2      US   28         1    Seo                    4          0\n",
       "3   China   39         1    Seo                    5          0\n",
       "4      US   30         1    Seo                    6          0"
      ]
     },
     "execution_count": 2,
     "metadata": {},
     "output_type": "execute_result"
    }
   ],
   "source": [
    "df = pd.read_csv(\"../Conversion_Rate/conversion_data.csv\")\n",
    "df.head()"
   ]
  },
  {
   "cell_type": "code",
   "execution_count": 3,
   "metadata": {
    "collapsed": false
   },
   "outputs": [
    {
     "name": "stdout",
     "output_type": "stream",
     "text": [
      "country                object\n",
      "age                     int64\n",
      "new_user                int64\n",
      "source                 object\n",
      "total_pages_visited     int64\n",
      "converted               int64\n",
      "dtype: object 316200\n"
     ]
    }
   ],
   "source": [
    "# data types of the dataframe\n",
    "print df.dtypes, len(df)"
   ]
  },
  {
   "cell_type": "code",
   "execution_count": 4,
   "metadata": {
    "collapsed": false
   },
   "outputs": [
    {
     "name": "stdout",
     "output_type": "stream",
     "text": [
      "0 0 0 0 0 0\n"
     ]
    }
   ],
   "source": [
    "# check if there is any null value or empty cells\n",
    "print pd.isnull(df['country']).sum(),pd.isnull(df['age']).sum(),pd.isnull(df['new_user']).sum(), pd.isnull(df['source']).sum(), pd.isnull(df['total_pages_visited']).sum(),pd.isnull(df['converted']).sum()"
   ]
  },
  {
   "cell_type": "code",
   "execution_count": 5,
   "metadata": {
    "collapsed": false
   },
   "outputs": [
    {
     "name": "stdout",
     "output_type": "stream",
     "text": [
      "['UK' 'US' 'China' 'Germany'] [17, 18, 19, 20, 21, 22, 23, 24, 25, 26, 27, 28, 29, 30, 31, 32, 33, 34, 35, 36, 37, 38, 39, 40, 41, 42, 43, 44, 45, 46, 47, 48, 49, 50, 51, 52, 53, 54, 55, 56, 57, 58, 59, 60, 61, 62, 63, 64, 65, 66, 67, 68, 69, 70, 72, 73, 77, 79, 111, 123] [1 0] ['Ads' 'Seo' 'Direct'] [1, 2, 3, 4, 5, 6, 7, 8, 9, 10, 11, 12, 13, 14, 15, 16, 17, 18, 19, 20, 21, 22, 23, 24, 25, 26, 27, 28, 29] [0 1]\n"
     ]
    }
   ],
   "source": [
    "# look at the data in each column and find the outlier, such as age 123 and 111\n",
    "print pd.unique(df['country']), sorted(pd.unique(df['age'])),pd.unique(df['new_user']),pd.unique(df['source']),sorted(pd.unique(df['total_pages_visited'])),pd.unique(df['converted'])"
   ]
  },
  {
   "cell_type": "code",
   "execution_count": 6,
   "metadata": {
    "collapsed": false
   },
   "outputs": [],
   "source": [
    "# drop the outliers of age 123 and 111\n",
    "df = df[(df['age'] != 111) & (df['age'] != 123)]"
   ]
  },
  {
   "cell_type": "code",
   "execution_count": 7,
   "metadata": {
    "collapsed": false
   },
   "outputs": [
    {
     "data": {
      "text/plain": [
       "316198"
      ]
     },
     "execution_count": 7,
     "metadata": {},
     "output_type": "execute_result"
    }
   ],
   "source": [
    "len(df) # 316200 minus 2 outliers"
   ]
  },
  {
   "cell_type": "code",
   "execution_count": 8,
   "metadata": {
    "collapsed": false
   },
   "outputs": [
    {
     "data": {
      "text/html": [
       "<div>\n",
       "<table border=\"1\" class=\"dataframe\">\n",
       "  <thead>\n",
       "    <tr style=\"text-align: right;\">\n",
       "      <th></th>\n",
       "      <th>country</th>\n",
       "      <th>converted</th>\n",
       "    </tr>\n",
       "  </thead>\n",
       "  <tbody>\n",
       "    <tr>\n",
       "      <th>0</th>\n",
       "      <td>China</td>\n",
       "      <td>0.001332</td>\n",
       "    </tr>\n",
       "    <tr>\n",
       "      <th>1</th>\n",
       "      <td>Germany</td>\n",
       "      <td>0.062428</td>\n",
       "    </tr>\n",
       "    <tr>\n",
       "      <th>2</th>\n",
       "      <td>UK</td>\n",
       "      <td>0.052612</td>\n",
       "    </tr>\n",
       "    <tr>\n",
       "      <th>3</th>\n",
       "      <td>US</td>\n",
       "      <td>0.037801</td>\n",
       "    </tr>\n",
       "  </tbody>\n",
       "</table>\n",
       "</div>"
      ],
      "text/plain": [
       "   country  converted\n",
       "0    China   0.001332\n",
       "1  Germany   0.062428\n",
       "2       UK   0.052612\n",
       "3       US   0.037801"
      ]
     },
     "execution_count": 8,
     "metadata": {},
     "output_type": "execute_result"
    }
   ],
   "source": [
    "df_country = df.groupby(['country']).agg({'converted':lambda x: x.sum()/float(len(x))})\n",
    "df_country = pd.DataFrame(df_country.to_records())\n",
    "df_country.head()"
   ]
  },
  {
   "cell_type": "code",
   "execution_count": 9,
   "metadata": {
    "collapsed": false
   },
   "outputs": [
    {
     "data": {
      "text/plain": [
       "<matplotlib.text.Text at 0xa5cae38c>"
      ]
     },
     "execution_count": 9,
     "metadata": {},
     "output_type": "execute_result"
    },
    {
     "data": {
      "image/png": "[encoded data removed]",
      "text/plain": [
       "<matplotlib.figure.Figure at 0xa5f6f3ac>"
      ]
     },
     "metadata": {},
     "output_type": "display_data"
    }
   ],
   "source": [
    "# visualize the data distribution by country, age, new_user,source,total_page_visted, and converted\n",
    "ax1 = sns.countplot(df['country'])\n",
    "ax1.set_ylabel('Count by country')\n",
    "ax2 = plt.twinx(ax1)\n",
    "sns.pointplot(x = df_country['country'], y = df_country['converted'], ax = ax2)\n",
    "ax2.set_ylabel('Conversion rate by country')\n",
    "plt.title('The count and conversion rate by country.')"
   ]
  },
  {
   "cell_type": "markdown",
   "metadata": {},
   "source": [
    "China has the lowest conversion rate, Germany has the highest followed by UK and US. Germany also has the highest counts followed by UK, China, US. Effort should be put into find the difference in marketing between Germany, UK, US and China and try to improve the conversion rate. Maybe a lower price to pump up the demand and over profit depending on the price elasticity. \n",
    "\n",
    "China is very different from the other 3 developed countries. But surprisingly the company has very low presence in US while the conversion rate is comparable. Efforts can be put in market penetration in US and UK."
   ]
  },
  {
   "cell_type": "code",
   "execution_count": 10,
   "metadata": {
    "collapsed": false
   },
   "outputs": [
    {
     "name": "stdout",
     "output_type": "stream",
     "text": [
      "  age_bins  converted\n",
      "0   15to20   0.062725\n",
      "1   20to40   0.031399\n",
      "2   40to60   0.010366\n",
      "3   60to80   0.004255\n"
     ]
    },
    {
     "data": {
      "text/plain": [
       "<matplotlib.text.Text at 0xa567708c>"
      ]
     },
     "execution_count": 10,
     "metadata": {},
     "output_type": "execute_result"
    },
    {
     "data": {
      "image/png": "[encoded data removed]",
      "text/plain": [
       "<matplotlib.figure.Figure at 0xa17e0ecc>"
      ]
     },
     "metadata": {},
     "output_type": "display_data"
    }
   ],
   "source": [
    "bins = [0,20,40,60,80]\n",
    "labels = ['15to20','20to40','40to60','60to80']\n",
    "df['age_bins'] = pd.cut(df['age'], bins, labels = labels)\n",
    "df['age_bins'] = df['age_bins'].astype('str') # the data type category cannot apply to pd dataframe to records, so convert to str\n",
    "df_age = df.groupby(['age_bins']).agg({'converted':lambda x: x.sum()/float(len(x))})\n",
    "df_age = pd.DataFrame(df_age.to_records())\n",
    "print df_age.head()\n",
    "ax1 = sns.countplot(df['age_bins'])\n",
    "ax1.set_ylabel('Count by age group')\n",
    "ax2 = plt.twinx(ax1)\n",
    "sns.pointplot(x = df_age['age_bins'], y = df_age['converted'], ax = ax2)\n",
    "ax2.set_ylabel('Conversion rate by age groups')\n",
    "plt.title('The count and conversion rate by age groups.')"
   ]
  },
  {
   "cell_type": "markdown",
   "metadata": {},
   "source": [
    "The product is very popular in young people from age 17 to 20 which takes more than 80% of the total consumption and the conversion rate among this group is also the highest. While the amount of 20 to 40 age group and 40 to 60 is similar the conversion rate vary a lot. Is the product designed for young people only? Is it possible to design a pivoted version for the elder group of people to improve the conversion rate in 40 to 60 age group as well?"
   ]
  },
  {
   "cell_type": "code",
   "execution_count": 11,
   "metadata": {
    "collapsed": false
   },
   "outputs": [
    {
     "name": "stdout",
     "output_type": "stream",
     "text": [
      "   new_user  converted\n",
      "0         0   0.071983\n",
      "1         1   0.014021\n"
     ]
    },
    {
     "data": {
      "text/plain": [
       "<matplotlib.axes._subplots.AxesSubplot at 0xa59d9a6c>"
      ]
     },
     "execution_count": 11,
     "metadata": {},
     "output_type": "execute_result"
    },
    {
     "data": {
      "image/png": "[encoded data removed]",
      "text/plain": [
       "<matplotlib.figure.Figure at 0xa59d93cc>"
      ]
     },
     "metadata": {},
     "output_type": "display_data"
    }
   ],
   "source": [
    "df_new_user = df.groupby(['new_user']).agg({'converted': lambda x: float(x.sum())/len(x)})\n",
    "df_new_user = pd.DataFrame(df_new_user.to_records())\n",
    "print df_new_user.head()\n",
    "ax1 = sns.countplot(df['new_user'])\n",
    "ax2 = plt.twinx(ax1)\n",
    "sns.pointplot(x = df_new_user['new_user'], y = df_new_user['converted'], ax = ax2)"
   ]
  },
  {
   "cell_type": "markdown",
   "metadata": {},
   "source": [
    "While the returning user is roungly 30% of the total clicks history, the conversion rate of returning customers are much higher. We need to comapre the conversion rate of the new user to industry average or best practice to see if this is in par. It seems that the ads, seo or direct visiting the websites new user are a lot, but conversion rate is low. Is there any other marketing that can be done to increase their willingness to try the product out, such as a free tiral for 7 days?"
   ]
  },
  {
   "cell_type": "code",
   "execution_count": 12,
   "metadata": {
    "collapsed": false
   },
   "outputs": [
    {
     "name": "stdout",
     "output_type": "stream",
     "text": [
      "   source  converted\n",
      "0     Ads   0.034472\n",
      "1  Direct   0.028169\n",
      "2     Seo   0.032888\n"
     ]
    },
    {
     "data": {
      "text/plain": [
       "<matplotlib.axes._subplots.AxesSubplot at 0xa54fe26c>"
      ]
     },
     "execution_count": 12,
     "metadata": {},
     "output_type": "execute_result"
    },
    {
     "data": {
      "image/png": "[encoded data removed]",
      "text/plain": [
       "<matplotlib.figure.Figure at 0xa55550ac>"
      ]
     },
     "metadata": {},
     "output_type": "display_data"
    }
   ],
   "source": [
    "df_source = df.groupby(['source']).agg({'converted': lambda x: float(x.sum())/len(x)})\n",
    "df_source = pd.DataFrame(df_source.to_records())\n",
    "print df_source.head()\n",
    "ax1 = sns.countplot(df['source'])\n",
    "ax2 = plt.twinx(ax1)\n",
    "sns.pointplot(x = df_source['source'], y = df_source['converted'], ax = ax2)"
   ]
  },
  {
   "cell_type": "markdown",
   "metadata": {},
   "source": [
    "It is shown that customers who come from Ads or search engine have higher conversion rate, probably because they already know our product and have better intention to purchase the product. Efforts need to be made in our website design and change various design to test the attractiveness to users to improve the conversion rate of the direct visit to our website."
   ]
  },
  {
   "cell_type": "code",
   "execution_count": 13,
   "metadata": {
    "collapsed": false
   },
   "outputs": [
    {
     "name": "stdout",
     "output_type": "stream",
     "text": [
      "  page_bins  converted\n",
      "0     00to5   0.000535\n",
      "1    05to10   0.015574\n",
      "2    10to15   0.313405\n",
      "3    15to20   0.933737\n",
      "4    20to25   1.000000\n"
     ]
    },
    {
     "data": {
      "text/plain": [
       "<matplotlib.text.Text at 0xa49c3d6c>"
      ]
     },
     "execution_count": 13,
     "metadata": {},
     "output_type": "execute_result"
    },
    {
     "data": {
      "image/png": "[encoded data removed]",
      "text/plain": [
       "<matplotlib.figure.Figure at 0xa09e87ec>"
      ]
     },
     "metadata": {},
     "output_type": "display_data"
    }
   ],
   "source": [
    "bins = [0,5,10,15,20,25,30]\n",
    "labels = ['00to5','05to10','10to15','15to20','20to25','25to30']\n",
    "df['page_bins'] = pd.cut(df['total_pages_visited'], bins, labels = labels)\n",
    "df['page_bins'] = df['page_bins'].astype('str') # the data type category cannot apply to pd dataframe to records, so convert to str\n",
    "df_page = df.groupby(['page_bins']).agg({'converted':lambda x: x.sum()/float(len(x))})\n",
    "df_page = pd.DataFrame(df_page.to_records())\n",
    "print df_page.head()\n",
    "ax1 = sns.countplot(df['page_bins'])\n",
    "ax1.set_ylabel('Count by page group')\n",
    "ax2 = plt.twinx(ax1)\n",
    "sns.pointplot(x = df_page['page_bins'], y = df_page['converted'], ax = ax2)\n",
    "ax2.set_ylabel('Conversion rate by page groups')\n",
    "plt.title('The count and conversion rate by page groups.')"
   ]
  },
  {
   "cell_type": "markdown",
   "metadata": {},
   "source": [
    "The result is very ineteresting and showed that the more pages the user vists, the more interested they are and they more likely they will be converted. At least 10 pages have to be visited till the conversion rate is significantly greater than 0. Users who visited more than 15 pages conversion rate is more than 90%. It seems that they more they play around with the website and dig around, they more they like our product. Therefore, effrots should be made into how to attract users to stay on the webpage and click around."
   ]
  },
  {
   "cell_type": "code",
   "execution_count": 14,
   "metadata": {
    "collapsed": false
   },
   "outputs": [
    {
     "name": "stdout",
     "output_type": "stream",
     "text": [
      "The conversion rate is 0.032252\n"
     ]
    }
   ],
   "source": [
    "print 'The conversion rate is %f' % (float(np.count_nonzero(df['converted']))/len(df['converted']))"
   ]
  },
  {
   "cell_type": "code",
   "execution_count": 15,
   "metadata": {
    "collapsed": false
   },
   "outputs": [],
   "source": [
    "# could not convert string to float: Ads so assign numeric valule to the string category\n",
    "#df['country'] = df['country'].astype('category')\n",
    "#df['source'] = df['source'].astype('category')\n",
    "def map_values(row, values_dict):\n",
    "    return values_dict[row]\n",
    "values_dict = {'China':1, 'US': 2, 'UK': 3, 'Germany': 4}\n",
    "df['country_code'] = df['country'].apply(map_values, args = (values_dict,))"
   ]
  },
  {
   "cell_type": "code",
   "execution_count": 16,
   "metadata": {
    "collapsed": false
   },
   "outputs": [
    {
     "data": {
      "text/html": [
       "<div>\n",
       "<table border=\"1\" class=\"dataframe\">\n",
       "  <thead>\n",
       "    <tr style=\"text-align: right;\">\n",
       "      <th></th>\n",
       "      <th>country</th>\n",
       "      <th>age</th>\n",
       "      <th>new_user</th>\n",
       "      <th>source</th>\n",
       "      <th>total_pages_visited</th>\n",
       "      <th>converted</th>\n",
       "      <th>age_bins</th>\n",
       "      <th>page_bins</th>\n",
       "      <th>country_code</th>\n",
       "      <th>source_code</th>\n",
       "    </tr>\n",
       "  </thead>\n",
       "  <tbody>\n",
       "    <tr>\n",
       "      <th>0</th>\n",
       "      <td>UK</td>\n",
       "      <td>25</td>\n",
       "      <td>1</td>\n",
       "      <td>Ads</td>\n",
       "      <td>1</td>\n",
       "      <td>0</td>\n",
       "      <td>20to40</td>\n",
       "      <td>00to5</td>\n",
       "      <td>3</td>\n",
       "      <td>3</td>\n",
       "    </tr>\n",
       "    <tr>\n",
       "      <th>1</th>\n",
       "      <td>US</td>\n",
       "      <td>23</td>\n",
       "      <td>1</td>\n",
       "      <td>Seo</td>\n",
       "      <td>5</td>\n",
       "      <td>0</td>\n",
       "      <td>20to40</td>\n",
       "      <td>00to5</td>\n",
       "      <td>2</td>\n",
       "      <td>2</td>\n",
       "    </tr>\n",
       "    <tr>\n",
       "      <th>2</th>\n",
       "      <td>US</td>\n",
       "      <td>28</td>\n",
       "      <td>1</td>\n",
       "      <td>Seo</td>\n",
       "      <td>4</td>\n",
       "      <td>0</td>\n",
       "      <td>20to40</td>\n",
       "      <td>00to5</td>\n",
       "      <td>2</td>\n",
       "      <td>2</td>\n",
       "    </tr>\n",
       "    <tr>\n",
       "      <th>3</th>\n",
       "      <td>China</td>\n",
       "      <td>39</td>\n",
       "      <td>1</td>\n",
       "      <td>Seo</td>\n",
       "      <td>5</td>\n",
       "      <td>0</td>\n",
       "      <td>20to40</td>\n",
       "      <td>00to5</td>\n",
       "      <td>1</td>\n",
       "      <td>2</td>\n",
       "    </tr>\n",
       "    <tr>\n",
       "      <th>4</th>\n",
       "      <td>US</td>\n",
       "      <td>30</td>\n",
       "      <td>1</td>\n",
       "      <td>Seo</td>\n",
       "      <td>6</td>\n",
       "      <td>0</td>\n",
       "      <td>20to40</td>\n",
       "      <td>05to10</td>\n",
       "      <td>2</td>\n",
       "      <td>2</td>\n",
       "    </tr>\n",
       "  </tbody>\n",
       "</table>\n",
       "</div>"
      ],
      "text/plain": [
       "  country  age  new_user source  total_pages_visited  converted age_bins  \\\n",
       "0      UK   25         1    Ads                    1          0   20to40   \n",
       "1      US   23         1    Seo                    5          0   20to40   \n",
       "2      US   28         1    Seo                    4          0   20to40   \n",
       "3   China   39         1    Seo                    5          0   20to40   \n",
       "4      US   30         1    Seo                    6          0   20to40   \n",
       "\n",
       "  page_bins  country_code  source_code  \n",
       "0     00to5             3            3  \n",
       "1     00to5             2            2  \n",
       "2     00to5             2            2  \n",
       "3     00to5             1            2  \n",
       "4    05to10             2            2  "
      ]
     },
     "execution_count": 16,
     "metadata": {},
     "output_type": "execute_result"
    }
   ],
   "source": [
    "values_dict = {'Ads': 3, 'Seo': 2, 'Direct': 1}\n",
    "df['source_code'] = df['source'].apply(map_values, args = (values_dict,))\n",
    "df.head()"
   ]
  },
  {
   "cell_type": "code",
   "execution_count": 17,
   "metadata": {
    "collapsed": false
   },
   "outputs": [],
   "source": [
    "# split the data to train and test\n",
    "feats = ['country_code','new_user','age','source_code','total_pages_visited']\n",
    "X = df[feats]\n",
    "y = df['converted']\n",
    "X_train, X_test, y_train, y_test = train_test_split(X, y, test_size = 0.33)"
   ]
  },
  {
   "cell_type": "code",
   "execution_count": 18,
   "metadata": {
    "collapsed": false
   },
   "outputs": [
    {
     "data": {
      "text/html": [
       "<div>\n",
       "<table border=\"1\" class=\"dataframe\">\n",
       "  <thead>\n",
       "    <tr style=\"text-align: right;\">\n",
       "      <th></th>\n",
       "      <th>country_code</th>\n",
       "      <th>new_user</th>\n",
       "      <th>age</th>\n",
       "      <th>source_code</th>\n",
       "      <th>total_pages_visited</th>\n",
       "    </tr>\n",
       "  </thead>\n",
       "  <tbody>\n",
       "    <tr>\n",
       "      <th>0</th>\n",
       "      <td>3</td>\n",
       "      <td>1</td>\n",
       "      <td>25</td>\n",
       "      <td>3</td>\n",
       "      <td>1</td>\n",
       "    </tr>\n",
       "    <tr>\n",
       "      <th>1</th>\n",
       "      <td>2</td>\n",
       "      <td>1</td>\n",
       "      <td>23</td>\n",
       "      <td>2</td>\n",
       "      <td>5</td>\n",
       "    </tr>\n",
       "    <tr>\n",
       "      <th>2</th>\n",
       "      <td>2</td>\n",
       "      <td>1</td>\n",
       "      <td>28</td>\n",
       "      <td>2</td>\n",
       "      <td>4</td>\n",
       "    </tr>\n",
       "    <tr>\n",
       "      <th>3</th>\n",
       "      <td>1</td>\n",
       "      <td>1</td>\n",
       "      <td>39</td>\n",
       "      <td>2</td>\n",
       "      <td>5</td>\n",
       "    </tr>\n",
       "    <tr>\n",
       "      <th>4</th>\n",
       "      <td>2</td>\n",
       "      <td>1</td>\n",
       "      <td>30</td>\n",
       "      <td>2</td>\n",
       "      <td>6</td>\n",
       "    </tr>\n",
       "  </tbody>\n",
       "</table>\n",
       "</div>"
      ],
      "text/plain": [
       "   country_code  new_user  age  source_code  total_pages_visited\n",
       "0             3         1   25            3                    1\n",
       "1             2         1   23            2                    5\n",
       "2             2         1   28            2                    4\n",
       "3             1         1   39            2                    5\n",
       "4             2         1   30            2                    6"
      ]
     },
     "execution_count": 18,
     "metadata": {},
     "output_type": "execute_result"
    },
    {
     "data": {
      "image/png": "[encoded data removed]",
      "text/plain": [
       "<matplotlib.figure.Figure at 0xa48f2aec>"
      ]
     },
     "metadata": {},
     "output_type": "display_data"
    }
   ],
   "source": [
    "# look at the correlation among the features\n",
    "corrmat = X.corr()\n",
    "sns.heatmap(corrmat, vmax=.8, square=True)\n",
    "X.head()"
   ]
  },
  {
   "cell_type": "code",
   "execution_count": 19,
   "metadata": {
    "collapsed": false
   },
   "outputs": [
    {
     "name": "stdout",
     "output_type": "stream",
     "text": [
      "0.98569183294 [[ 0.73417032 -1.72030441 -0.07408792  0.07142362  0.75063   ]]\n"
     ]
    }
   ],
   "source": [
    "# use logistic regression to fit the data with high prediction accuracy\n",
    "log_reg = LogisticRegression()\n",
    "Log_score = log_reg.fit(X_train, y_train).score(X_test,y_test)\n",
    "print Log_score, log_reg.coef_"
   ]
  },
  {
   "cell_type": "code",
   "execution_count": 20,
   "metadata": {
    "collapsed": false
   },
   "outputs": [
    {
     "data": {
      "text/plain": [
       "(array([0, 1, 2, 3, 4]), <a list of 5 Text xticklabel objects>)"
      ]
     },
     "execution_count": 20,
     "metadata": {},
     "output_type": "execute_result"
    },
    {
     "data": {
      "image/png": "[encoded data removed]",
      "text/plain": [
       "<matplotlib.figure.Figure at 0xa5c9ad2c>"
      ]
     },
     "metadata": {},
     "output_type": "display_data"
    }
   ],
   "source": [
    "# visualize the coefficient of the features which showed country, new_user and total_pages_visted are the most important features.\n",
    "f = 'converted ~ country_code + age + new_user + source_code + total_pages_visited'\n",
    "sns.coefplot(f, df,intercept=False)\n",
    "plt.xticks(rotation = 60)"
   ]
  },
  {
   "cell_type": "code",
   "execution_count": 21,
   "metadata": {
    "collapsed": false
   },
   "outputs": [
    {
     "name": "stdout",
     "output_type": "stream",
     "text": [
      "0.98403388726 [ 0.04132254  0.03297071  0.10707596  0.01539095  0.80323984]\n"
     ]
    }
   ],
   "source": [
    "# use random forest to train the data and compare with logistic regression, not better than logistic regression\n",
    "rf = RandomForestClassifier()\n",
    "rf_score = rf.fit(X_train, y_train).score(X_test,y_test)\n",
    "print rf_score, rf.feature_importances_"
   ]
  },
  {
   "cell_type": "markdown",
   "metadata": {},
   "source": [
    "It is shown that new user is negatively associated with conversion and total_pages_visted are positively correlated with the conversion. "
   ]
  },
  {
   "cell_type": "markdown",
   "metadata": {},
   "source": [
    "In conclusion, we should focus on 3 points that can potentially improve the conversion rate:\n",
    "1. Web redesign to attract new user to stay on the web and click and explore around.\n",
    "2. Look into alternative version for elder group of people.\n",
    "3. Find out the reason why the presence of the product is so low in US. Do better market penetration and marketing campaign in UK, US. Explore the special situation in China and see if there is any pirate issue to suppress the conversion rate."
   ]
  }
 ],
 "metadata": {
  "anaconda-cloud": {},
  "kernelspec": {
   "display_name": "Python [Root]",
   "language": "python",
   "name": "Python [Root]"
  },
  "language_info": {
   "codemirror_mode": {
    "name": "ipython",
    "version": 2
   },
   "file_extension": ".py",
   "mimetype": "text/x-python",
   "name": "python",
   "nbconvert_exporter": "python",
   "pygments_lexer": "ipython2",
   "version": "2.7.12"
  }
 },
 "nbformat": 4,
 "nbformat_minor": 0
}
